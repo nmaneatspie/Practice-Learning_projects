{
 "cells": [
  {
   "cell_type": "code",
   "execution_count": 20,
   "metadata": {},
   "outputs": [
    {
     "name": "stdout",
     "output_type": "stream",
     "text": [
      "Tensor flow version: 2.1.0\n",
      "Keras Version: 2.2.4-tf\n",
      "\n",
      "Python 3.7.9 (default, Aug 31 2020, 17:10:11) [MSC v.1916 64 bit (AMD64)]\n",
      "Pandas 1.1.3\n",
      "Sciikit-Learn 0.23.2\n",
      "GPU is  available\n"
     ]
    }
   ],
   "source": [
    "#Checking versions\n",
    "import sys\n",
    "\n",
    "import tensorflow.keras\n",
    "import pandas as pd\n",
    "import sklearn as sk\n",
    "import tensorflow as tf\n",
    "from tensorflow import keras as tfk\n",
    "from tensorflow.keras import layers as tfkl\n",
    "import numpy as np\n",
    "import matplotlib.pyplot as plt\n",
    "\n",
    "print(\"Tensor flow version: {}\".format(tf.__version__))\n",
    "print(\"Keras Version: {}\".format(tensorflow.keras.__version__))\n",
    "print()\n",
    "print(\"Python {}\".format(sys.version))\n",
    "print(\"Pandas {}\".format(pd.__version__))\n",
    "print(\"Sciikit-Learn {}\".format(sk.__version__))\n",
    "print(\"GPU is \", \"available\" if tf.config.list_physical_devices('GPU') else \"not available\")"
   ]
  },
  {
   "cell_type": "code",
   "execution_count": 21,
   "metadata": {
    "scrolled": true
   },
   "outputs": [
    {
     "name": "stdout",
     "output_type": "stream",
     "text": [
      "Train on 60000 samples\n",
      "Epoch 1/4\n",
      "60000/60000 [==============================] - 5s 88us/sample - loss: 0.2004 - accuracy: 0.9388\n",
      "Epoch 2/4\n",
      "60000/60000 [==============================] - 5s 81us/sample - loss: 0.0819 - accuracy: 0.9747\n",
      "Epoch 3/4\n",
      "60000/60000 [==============================] - 4s 74us/sample - loss: 0.0539 - accuracy: 0.9822\n",
      "Epoch 4/4\n",
      "60000/60000 [==============================] - 4s 72us/sample - loss: 0.0399 - accuracy: 0.9867\n",
      "10000/10000 [==============================] - 1s 64us/sample - loss: 0.0785 - accuracy: 0.9771\n",
      "0.07849704961068928 0.9771\n",
      "INFO:tensorflow:Assets written to: mnist_reader.model\\assets\n"
     ]
    }
   ],
   "source": [
    "mnist = tf.keras.datasets.mnist #image set of 28x28 images of hand-written digits 0-9\n",
    "num_classif = 10\n",
    "num_neurons = 512\n",
    "model_name = \"mnist_reader\"\n",
    "\n",
    "(x_train, y_train), (x_test, y_test) = mnist.load_data()\n",
    "\n",
    "x_train = tf.keras.utils.normalize(x_train, axis=1)\n",
    "x_test = tf.keras.utils.normalize(x_test, axis=1)\n",
    "\n",
    "model = tfk.models.Sequential()\n",
    "model.add(tfk.layers.Flatten())\n",
    "model.add(tfkl.Dense(num_neurons, activation = tf.nn.relu))\n",
    "model.add(tfkl.Dense(num_neurons, activation = tf.nn.relu))\n",
    "model.add(tfkl.Dense(num_classif, activation = tf.nn.softmax))\n",
    "\n",
    "model.compile(optimizer = \"adam\",\n",
    "            loss = \"sparse_categorical_crossentropy\",\n",
    "            metrics = [\"accuracy\"])\n",
    "\n",
    "model.fit(x_train, y_train, epochs = 4)\n",
    "\n",
    "val_loss, val_acc = model.evaluate(x_test, y_test)\n",
    "print(val_loss, val_acc)\n",
    "model.save(\"{}.model\".format(model_name))"
   ]
  },
  {
   "cell_type": "code",
   "execution_count": 22,
   "metadata": {},
   "outputs": [],
   "source": [
    "new_model = tfk.models.load_model(\"{}.model\".format(model_name))\n",
    "predictions = new_model.predict(x_test)"
   ]
  },
  {
   "cell_type": "code",
   "execution_count": 25,
   "metadata": {},
   "outputs": [
    {
     "data": {
      "image/png": "[encoded data removed]",
      "text/plain": [
       "<Figure size 432x288 with 1 Axes>"
      ]
     },
     "metadata": {
      "needs_background": "light"
     },
     "output_type": "display_data"
    },
    {
     "name": "stdout",
     "output_type": "stream",
     "text": [
      "2\n"
     ]
    },
    {
     "data": {
      "image/png": "[encoded data removed]",
      "text/plain": [
       "<Figure size 432x288 with 1 Axes>"
      ]
     },
     "metadata": {
      "needs_background": "light"
     },
     "output_type": "display_data"
    },
    {
     "name": "stdout",
     "output_type": "stream",
     "text": [
      "1\n"
     ]
    },
    {
     "data": {
      "image/png": "[encoded data removed]",
      "text/plain": [
       "<Figure size 432x288 with 1 Axes>"
      ]
     },
     "metadata": {
      "needs_background": "light"
     },
     "output_type": "display_data"
    },
    {
     "name": "stdout",
     "output_type": "stream",
     "text": [
      "0\n"
     ]
    },
    {
     "data": {
      "image/png": "[encoded data removed]",
      "text/plain": [
       "<Figure size 432x288 with 1 Axes>"
      ]
     },
     "metadata": {
      "needs_background": "light"
     },
     "output_type": "display_data"
    },
    {
     "name": "stdout",
     "output_type": "stream",
     "text": [
      "4\n"
     ]
    }
   ],
   "source": [
    "for x in range(1,5):#range(len(predictions)):\n",
    "    plt.imshow(x_test[x])\n",
    "    plt.show()\n",
    "    print(np.argmax(predictions[x]))"
   ]
  },
  {
   "cell_type": "code",
   "execution_count": null,
   "metadata": {},
   "outputs": [],
   "source": []
  }
 ],
 "metadata": {
  "kernelspec": {
   "display_name": "Python 3.7 (tensorflow)",
   "language": "python",
   "name": "tensorflow"
  },
  "language_info": {
   "codemirror_mode": {
    "name": "ipython",
    "version": 3
   },
   "file_extension": ".py",
   "mimetype": "text/x-python",
   "name": "python",
   "nbconvert_exporter": "python",
   "pygments_lexer": "ipython3",
   "version": "3.7.9"
  }
 },
 "nbformat": 4,
 "nbformat_minor": 4
}
